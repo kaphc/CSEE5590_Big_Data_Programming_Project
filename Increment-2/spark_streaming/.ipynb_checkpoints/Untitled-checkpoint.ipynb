{
 "cells": [
  {
   "cell_type": "code",
   "execution_count": 4,
   "metadata": {},
   "outputs": [],
   "source": [
    "import tweepy\n",
    "from tweepy import OAuthHandler\n",
    "from tweepy import Stream\n",
    "from tweepy.streaming import StreamListener\n",
    "import socket\n",
    "import json\n",
    "import pickle"
   ]
  },
  {
   "cell_type": "code",
   "execution_count": null,
   "metadata": {},
   "outputs": [],
   "source": [
    "consumer_key    = 'rFXo7y4lDLzBCa6edAbyJPXO6'\n",
    "consumer_secret = 'kRgSC8luGa3J5pFu4AEE37YoAeRs9HkFmgoM5cg5Nv2ieNGUaU'\n",
    "access_token    = '1042056400560680961-AdlgRfGTiyfj6aE0nmOylj2EEtTbeK'\n",
    "access_secret   = 'Uquvk5RrlhIT4oFsMm7VNBCRe8r4rMibXJXZhPau0culW'"
   ]
  },
  {
   "cell_type": "code",
   "execution_count": null,
   "metadata": {},
   "outputs": [
    {
     "name": "stdout",
     "output_type": "stream",
     "text": [
      "Listening on port: 5555\n",
      "Received request from: ('127.0.0.1', 52138)\n",
      "b'RT @MrAndyNgo: \\xe2\\x80\\x9cYou\\xe2\\x80\\x99re antagonizing the city I live in\\xe2\\x80\\x9d said the anti-Trump protester who got in a fight in Portland at a US-flag waving ra\\xe2\\x80\\xa6 ~@ New York, USA ~@ <a href=\"http://twitter.com/download/iphone\" rel=\"nofollow\">Twitter for iPhone</a>'\n",
      "Received request from: ('127.0.0.1', 52139)\n",
      "b'@yaboyroush08 @GolBezan people who wanted to see \\xe2\\x80\\x9cbeautiful attacking\\xe2\\x80\\x9d football not understanding we aren\\xe2\\x80\\x99t a good\\xe2\\x80\\xa6 https://t.co/4hTGziDb2K ~@ Velenjak ~@ <a href=\"http://twitter.com/download/iphone\" rel=\"nofollow\">Twitter for iPhone</a>'\n",
      "Received request from: ('127.0.0.1', 52140)\n",
      "b'\\xd0\\x9a\\xd1\\x80\\xd0\\xb8\\xd1\\x88\\xd1\\x82\\xd0\\xb8\\xd0\\xb0\\xd0\\xbd\\xd1\\x83 \\xd0\\xa0\\xd0\\xbe\\xd0\\xbd\\xd0\\xb0\\xd0\\xbb\\xd0\\xb4\\xd1\\x83: \\xc2\\xab\\xd0\\xaf \\xd0\\xb2 \\xd0\\xbe\\xd1\\x82\\xd0\\xbb\\xd0\\xb8\\xd1\\x87\\xd0\\xbd\\xd0\\xbe\\xd0\\xb9 \\xd1\\x84\\xd0\\xbe\\xd1\\x80\\xd0\\xbc\\xd0\\xb5. \\xd0\\xa2\\xd0\\xb5\\xd0\\xbf\\xd0\\xb5\\xd1\\x80\\xd1\\x8c \\xd0\\xbc\\xd0\\xbe\\xd0\\xb6\\xd0\\xb5\\xd1\\x82\\xd0\\xb5 \\xd0\\xb1\\xd1\\x80\\xd0\\xb0\\xd1\\x82\\xd1\\x8c \\xd0\\xb8\\xd0\\xbd\\xd1\\x82\\xd0\\xb5\\xd1\\x80\\xd0\\xb2\\xd1\\x8c\\xd1\\x8e \\xd1\\x83 \\xd0\\xb4\\xd1\\x80\\xd1\\x83\\xd0\\xb3\\xd0\\xb8\\xd1\\x85\\xc2\\xbbhttps://t.co/sAR76sH76Q ~@ None ~@ <a href=\"https://sports.ru\" rel=\"nofollow\">Sports.ru API</a>'\n",
      "Received request from: ('127.0.0.1', 52141)\n",
      "b'RT @nathandcrosby: 2/5 mom earned her masters degree while also teaching, many times at night. coaches would drive me to games. she made en\\xe2\\x80\\xa6 ~@ Oil Country ~@ <a href=\"http://twitter.com/download/iphone\" rel=\"nofollow\">Twitter for iPhone</a>'\n",
      "Received request from: ('127.0.0.1', 52142)\n",
      "b'dabeet veeya has and will always remind me of my good friend @mnabeeliqbal. ~@ Pakistan ~@ <a href=\"http://twitter.com/download/android\" rel=\"nofollow\">Twitter for Android</a>'\n",
      "Received request from: ('127.0.0.1', 52143)\n",
      "b'RT @arash_tehran: Sad that Iran lost this football game to Iraq today \\xf0\\x9f\\x98\\x95 my heart would really break if we don\\xe2\\x80\\x99t make it to the first-ever W\\xe2\\x80\\xa6 ~@ Drowned; in a Land, of Words.. ~@ <a href=\"http://twitter.com/download/android\" rel=\"nofollow\">Twitter for Android</a>'\n",
      "Received request from: ('127.0.0.1', 52144)\n",
      "b'RT @BavieuxToure: Au stade en compagnie de mon fr\\xc3\\xa8re le Pr\\xc3\\xa9sident de la f\\xc3\\xa9d\\xc3\\xa9ration guin\\xc3\\xa9enne de Football \\xc3\\xa0 30 min du KO.Que le fair play g\\xe2\\x80\\xa6 ~@ Paris, France ~@ <a href=\"http://twitter.com/download/iphone\" rel=\"nofollow\">Twitter for iPhone</a>'\n",
      "Received request from: ('127.0.0.1', 52145)\n",
      "b'[Read] Mobi Beep: Inside the Unseen World of Baseball for the Blind -&gt; https://t.co/PuQEkYbTAP ~@ United States ~@ <a href=\"https://mobile.twitter.com\" rel=\"nofollow\">Twitter Web App</a>'\n",
      "Received request from: ('127.0.0.1', 52147)\n",
      "b'RT @MissDale2: Well done girls! A great win \\xe2\\x9a\\xbd\\xef\\xb8\\x8f\\xf0\\x9f\\x91\\x8f\\xf0\\x9f\\x8f\\xbc https://t.co/a7ZpBy3ZOl ~@ None ~@ <a href=\"http://twitter.com/download/iphone\" rel=\"nofollow\">Twitter for iPhone</a>'\n",
      "Received request from: ('127.0.0.1', 52155)\n",
      "b'The second clause of the first sentence, tho.  Apparently, indecent exposure and terrifying a female secuity guard\\xe2\\x80\\xa6 https://t.co/01XD0ik9H6 ~@ Calgary, Alberta ~@ <a href=\"http://twitter.com\" rel=\"nofollow\">Twitter Web Client</a>'\n",
      "Received request from: ('127.0.0.1', 52156)\n",
      "b'Fantastic!! \\xf0\\x9f\\x91\\x8f\\xf0\\x9f\\x8f\\xbc\\xf0\\x9f\\x91\\x8f\\xf0\\x9f\\x8f\\xbc\\xf0\\x9f\\x91\\x8f\\xf0\\x9f\\x8f\\xbc ~@ Forsyth County, GA ~@ <a href=\"https://mobile.twitter.com\" rel=\"nofollow\">Twitter Web App</a>'\n",
      "Received request from: ('127.0.0.1', 52157)\n",
      "b'@amaivaaaron @GraemeSmith49 If he wants the job he should be hired. What\\'s needed is a cricket man, not a politician in that position. ~@ Cape Town, South Africa ~@ <a href=\"http://twitter.com/download/android\" rel=\"nofollow\">Twitter for Android</a>'\n",
      "Received request from: ('127.0.0.1', 52158)\n",
      "b'RT @mikaelkingo: I am not afraid of Bullies. Not even when she is grown woman #TheSocialCTV  my response to you from a hockey player. #ipla\\xe2\\x80\\xa6 ~@ Whitby, Ontario ~@ <a href=\"https://mobile.twitter.com\" rel=\"nofollow\">Twitter Web App</a>'\n",
      "Received request from: ('127.0.0.1', 52160)\n",
      "b'RT @brfootball: Juventus will officially be named \\'Zebre\\' on Football Manager 2020Being a J\\xcc\\xb6u\\xcc\\xb6v\\xcc\\xb6e\\xcc\\xb6 \\xcc\\xb6P\\xcc\\xb6i\\xcc\\xb6e\\xcc\\xb6m\\xcc\\xb6o\\xcc\\xb6n\\xcc\\xb6t\\xcc\\xb6e\\xcc\\xb6 \\xcc\\xb6C\\xcc\\xb6a\\xcc\\xb6l\\xcc\\xb6c\\xcc\\xb6i\\xcc\\xb6o\\xcc\\xb6 Zebre\\xe2\\x80\\xa6 ~@ Asia, Thailand ~@ <a href=\"http://twitter.com/download/iphone\" rel=\"nofollow\">Twitter for iPhone</a>'\n",
      "Received request from: ('127.0.0.1', 52167)\n",
      "b'RT @JimH5: @kimberlyarchie @ConcernedMom9 @37919KJ Sports participation is at an all-time high, and instead of celebrating that, school ADs\\xe2\\x80\\xa6 ~@ San Diego, CA ~@ <a href=\"http://twitter.com/download/iphone\" rel=\"nofollow\">Twitter for iPhone</a>'\n",
      "Received request from: ('127.0.0.1', 52174)\n",
      "b'RT @tscaggswftm: Did my pregame interview with Fleming Co Football Coach Bill Spencer last night. Coach Spencer said the Panthers have neve\\xe2\\x80\\xa6 ~@ NEKY ~@ <a href=\"http://twitter.com/download/iphone\" rel=\"nofollow\">Twitter for iPhone</a>'\n",
      "Received request from: ('127.0.0.1', 52183)\n",
      "b'@SportsCollector Buying those vending boxes back in the day and sorting through them was fun. Not sure I remember e\\xe2\\x80\\xa6 https://t.co/Qv5Z91D0ii ~@ Fishers, IN ~@ <a href=\"http://twitter.com/download/iphone\" rel=\"nofollow\">Twitter for iPhone</a>'\n",
      "Received request from: ('127.0.0.1', 52190)\n",
      "b'Top 10 Sports Team Apparel Stores for\\xc2\\xa0Women https://t.co/dhVUZhL6gZ https://t.co/fAdDBd4pAI ~@ Minneapolis, MN ~@ <a href=\"http://publicize.wp.com/\" rel=\"nofollow\">WordPress.com</a>'\n",
      "Received request from: ('127.0.0.1', 52197)\n",
      "b'Sick of crawling though the web for Sports streams? Try Rush IPTVWe Cover All Sports NBA NFL MLB NHL Soccer box\\xe2\\x80\\xa6 https://t.co/nx9rviO8bR ~@ None ~@ <a href=\"http://twitter.com\" rel=\"nofollow\">Twitter Web Client</a>'\n",
      "Received request from: ('127.0.0.1', 52203)\n",
      "b'i hate football again ~@ Your mind ~@ <a href=\"https://mobile.twitter.com\" rel=\"nofollow\">Twitter Web App</a>'\n",
      "Received request from: ('127.0.0.1', 52207)\n",
      "b'RT @Saj_PakPassion: Sri Lanka have agreed to play a 2-match Test series in Pakistan; First Test will be played at the Pindi Cricket Stadium\\xe2\\x80\\xa6 ~@ Pakistan ~@ <a href=\"http://twitter.com/download/android\" rel=\"nofollow\">Twitter for Android</a>'\n",
      "Received request from: ('127.0.0.1', 52208)\n",
      "b'@teflonjohn7 @AylanX @Absyminded 14 follows a stupid alias and a losers hockey shirt and we should care what you th\\xe2\\x80\\xa6 https://t.co/kTvsdgZSlZ ~@ Near Toronto ~@ <a href=\"https://mobile.twitter.com\" rel=\"nofollow\">Twitter Web App</a>'\n",
      "Received request from: ('127.0.0.1', 52209)\n",
      "b'@alfredo_scout https://t.co/KpHLfLXWue Ferdi yi izlemek isteyenlere ~@ Kad\\xc4\\xb1k\\xc3\\xb6y, \\xc4\\xb0stanbul ~@ <a href=\"http://twitter.com/download/android\" rel=\"nofollow\">Twitter for Android</a>'\n",
      "Received request from: ('127.0.0.1', 52210)\n",
      "b'RT @NathanGrella: Proud to Announce this week\\'s Backyard Football Podcast Game of the Week!Live Updates &amp; Highlights will be posted to THI\\xe2\\x80\\xa6 ~@ None ~@ <a href=\"http://twitter.com/download/iphone\" rel=\"nofollow\">Twitter for iPhone</a>'\n"
     ]
    }
   ],
   "source": [
    "class TweetsListener(StreamListener):\n",
    "\n",
    "  def __init__(self, csocket):\n",
    "      self.client_socket = csocket\n",
    "\n",
    "  def on_data(self, data):\n",
    "      try:\n",
    "          s=self.client_socket  \n",
    "          s.listen(5)                 # Now wait for client connection.\n",
    "          c, addr = s.accept()        # Establish connection with client.\n",
    "          print(\"Received request from: \" + str(addr))\n",
    "          msg = json.loads( data )\n",
    "          user=json.loads( json.dumps(msg['user']) )\n",
    "          sdata=msg['text'].replace('\\n','')+' ~@ '+(user['location'] if user['location'] is not None else 'None')+' ~@ '+msg['source']\n",
    "          print(sdata.encode('utf-8'))\n",
    "          c.send(sdata.encode('utf-8'))\n",
    "          c.close()\n",
    "      except IncompleteRead:\n",
    "        # Oh well, reconnect and keep trucking\n",
    "          return true  \n",
    "      except BaseException as e:\n",
    "          print(\"Error on_data: %s\" % str(e))\n",
    "      return True\n",
    "\n",
    "  def on_error(self, status):\n",
    "      print(status)\n",
    "      return True\n",
    "\n",
    "def sendData(c_socket):\n",
    "  auth = OAuthHandler(consumer_key, consumer_secret)\n",
    "  auth.set_access_token(access_token, access_secret)\n",
    "\n",
    "  twitter_stream = Stream(auth, TweetsListener(c_socket))\n",
    "  twitter_stream.filter(track=['sports','football','cricket','badminton','tennis','hockey','baseball','golf'])\n",
    "\n",
    "if __name__ == \"__main__\":\n",
    "  s = socket.socket(socket.AF_INET, socket.SOCK_STREAM)         # Create a socket object\n",
    "  host = \"127.0.0.1\"     # Get local machine name\n",
    "  port = 5555                 # Reserve a port for your service.\n",
    "  s.bind((host, port))        # Bind to the port\n",
    "\n",
    "  print(\"Listening on port: %s\" % str(port))\n",
    "\n",
    "  sendData(s)"
   ]
  },
  {
   "cell_type": "code",
   "execution_count": null,
   "metadata": {},
   "outputs": [],
   "source": []
  }
 ],
 "metadata": {
  "kernelspec": {
   "display_name": "Python 3",
   "language": "python",
   "name": "python3"
  },
  "language_info": {
   "codemirror_mode": {
    "name": "ipython",
    "version": 3
   },
   "file_extension": ".py",
   "mimetype": "text/x-python",
   "name": "python",
   "nbconvert_exporter": "python",
   "pygments_lexer": "ipython3",
   "version": "3.7.5"
  }
 },
 "nbformat": 4,
 "nbformat_minor": 2
}
